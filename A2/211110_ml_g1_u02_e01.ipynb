{
 "cells": [
  {
   "cell_type": "code",
   "execution_count": null,
   "metadata": {},
   "outputs": [],
   "source": [
    "# Exercise 1\n",
    "\n",
    "import numpy as np\n",
    "import math\n",
    "\n",
    "iris = np.array([\n",
    "    [5.1, 3.5, 1.4, 0.2, 'Iris-setosa'],     # Flower 1\n",
    "    [4.9, 3.0, 1.4, 0.2, 'Iris-setosa'],     # Flower 2\n",
    "    [6.3, 3.3, 4.7, 1.6, 'Iris-versicolor']  # Flower 3\n",
    "])\n",
    "\n",
    "# Calculate the distance between data objects iris[a] and iris[b]\n",
    "def distance(a, b):\n",
    "    # The iris dataset has 5 features\n",
    "    distance_per_feature = np.empty(5)\n",
    "    # Split array into two for each data type\n",
    "    iris_numeric = iris[:, :4].astype('float16')\n",
    "    iris_nominal = iris[:, 4:] # dtype is String\n",
    "    # Calculate the (normalized, euclidean) distances of the numerical features\n",
    "    for i in range(0,4):\n",
    "        distance_per_feature[i] = math.fabs(iris_numeric[a][i] - iris_numeric[b][i]) / (np.max(iris_numeric[:, i]) - np.min(iris_numeric[:, i]))\n",
    "    # Calculate distance of the nominal feature (0 if equal, 1 if not equal)\n",
    "    distance_per_feature[4] = iris_nominal[a] != iris_nominal[b]\n",
    "    # With indicator delta = 1 we can calculate the unweighted average of all individual distances to get the total distance between iris[a] and iris[b]\n",
    "    return np.average(distance_per_feature)\n",
    "\n",
    "# Rounded values for print out\n",
    "print('d(1,2) ≈ {:1.2f}'.format(distance(0,1)))\n",
    "print('d(1,3) ≈ {:1.2f}'.format(distance(0,2)))\n"
   ]
  }
 ],
 "metadata": {
  "language_info": {
   "name": "plaintext"
  },
  "orig_nbformat": 4
 },
 "nbformat": 4,
 "nbformat_minor": 2
}
